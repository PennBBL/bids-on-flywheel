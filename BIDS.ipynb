{
 "cells": [
  {
   "attachments": {},
   "cell_type": "markdown",
   "metadata": {},
   "source": [
    "# Making sure your data is BIDS-compliant on Flywheel\n",
    "\n",
    "BIDS compliance is absolutely necessary for running many pre-processing pipelines on your data. Having correct metadata ensures that the pre-processing correctly handles your data. Incorrect BIDS naming can result in difficult-to-debug errors.\n",
    "\n",
    "For these reasons, we cover in-depth how to make sure your data is BIDS-compliant.\n",
    "\n",
    "First, let's look at an example subject. \n",
    "\n",
    "<img src=\"images/initial_bids_error.png\" alt=\"drawing\" width=\"600\"/>\n",
    "\n",
    "These red flags mean that there are errors converting the images to a BIDS-compliant name. Here you have two options\n",
    "\n",
    "  1. Click the \"Info\" button on the scan and make sure the BIDS section is completed correctly\n",
    "  2. Use the Flywheel API to change the BIDS properties\n",
    "\n",
    "\n",
    "## The Flywheel data model\n",
    "\n",
    "Flywheel stores zip archives of the dicom data and nifti files. The names of the nifti files are usually determined by `dcm2niix` and that name sticks with the file for the rest of its life. I believe these files are managed using MongoDB's GridFS framework, so there are some non-intuitive things that can happen. \n",
    "\n",
    "  - More than one file can exist with the exact same name. The files are indexed by a BSON id, which is\n",
    "    unique for each file. The field containing the file name is not necessarily unique.\n",
    "\n",
    "  - Unless the data was uploaded in BIDS format, the actual BIDS-named data does not exist in Flywheel.\n",
    "    Instead, when a job needs requires BIDS input, the job uses the Flywheel API to download and rename\n",
    "    the data to be BIDS compliant.\n",
    "\n",
    "    - The renaming and JSON Sidecar creation uses information stored in Flywheel's MongoDB. Therefore to\n",
    "      change the BIDS filename, you simply update the files Document/BSON and next time a gear is run,\n",
    "      this new metadata will be used to create the BIDS directory.\n",
    "\n",
    "The metadata associated with each file can be edited through the Flywheel web interface or through the API. The web interface is not complete and still a little buggy (i.e. not all UI's contain BIDS fields). The SDK is fairly complete and documented, so that will be the focus of this notebook.\n",
    "\n",
    "        \n",
    "\n",
    "## Editing BIDS info from the web interface\n",
    "\n",
    "You can change the information on your scans by clicking the info icon in the file's row.\n",
    "\n",
    "<img src=\"images/select_info.png\" alt=\"drawing\" width=\"600\"/>\n",
    "\n",
    "\n",
    "The fields can then be edited manually. This is the initial interface presented:\n",
    "\n",
    "<img src=\"images/basic_file_info.png\" alt=\"drawing\" width=\"600\"/>\n",
    "\n",
    "where basic options about the contents of the file are editable. This will always be available when clicking the Info button. If the `BIDS Curation` gear has been run, you can scroll down and see the BIDS fields:\n",
    "\n",
    "<img src=\"images/bids_info.png\" alt=\"drawing\" width=\"600\"/>\n",
    "\n",
    "It is unclear to me if the `BIDS Curation` gear needs to be re-run for these changes to be committed to MongoDB.\n",
    "\n",
    "## Editing BIDS info from the API\n",
    "\n",
    "The Flywheel SDK can be installed from PyPI using\n",
    "\n",
    "```bash\n",
    "\n",
    "pip install flywheel-sdk\n",
    "\n",
    "```\n",
    "\n",
    "The documentation for this package can be found [here](https://flywheel-io.github.io/core/branches/master/python/index.html). "
   ]
  },
  {
   "cell_type": "code",
   "execution_count": 1,
   "metadata": {},
   "outputs": [],
   "source": [
    "import flywheel\n",
    "\n",
    "# Create client\n",
    "fw = flywheel.Client()"
   ]
  },
  {
   "cell_type": "markdown",
   "metadata": {},
   "source": [
    "Note the documentation is out of date and the constructor for `flywheel.Client` does not take any arguments. Instead you have to login with your API key usinf the commandline `fw login`. Verify that your login worked and you can retrieve data from Flywheel:"
   ]
  },
  {
   "cell_type": "code",
   "execution_count": 3,
   "metadata": {},
   "outputs": [
    {
     "data": {
      "text/plain": [
       "'mcieslak@upenn.edu'"
      ]
     },
     "execution_count": 3,
     "metadata": {},
     "output_type": "execute_result"
    }
   ],
   "source": [
    "fw.get_current_user()['email']"
   ]
  },
  {
   "cell_type": "markdown",
   "metadata": {},
   "source": [
    "Now we need to find the document that represents this scanning session. This is can be done through a search:"
   ]
  },
  {
   "cell_type": "code",
   "execution_count": 6,
   "metadata": {},
   "outputs": [
    {
     "name": "stdout",
     "output_type": "stream",
     "text": [
      "{'analyses': None,\n",
      " 'created': datetime.datetime(2018, 12, 19, 15, 21, 10, 217000, tzinfo=tzutc()),\n",
      " 'description': None,\n",
      " 'files': [{'classification': {},\n",
      "            'created': datetime.datetime(2019, 1, 9, 19, 48, 52, 13000, tzinfo=tzutc()),\n",
      "            'hash': 'v0-sha384-1c77469675dad45012de0cbf1da5053e27918713ad822de64502a711d0238e56bc7b3f94946ba1e8d1921d1c8d68d1d4',\n",
      "            'id': '66463c4e-c46b-4975-868d-fb48c45039e8',\n",
      "            'info': {'BIDS': {'Filename': '',\n",
      "                              'Folder': '',\n",
      "                              'Path': '',\n",
      "                              'error_message': \"Filename u'' is too short\",\n",
      "                              'ignore': False,\n",
      "                              'template': 'project_file',\n",
      "                              'valid': False}},\n",
      "            'info_exists': True,\n",
      "            'mimetype': 'text/plain',\n",
      "            'modality': None,\n",
      "            'modified': datetime.datetime(2019, 1, 9, 22, 38, 19, 579000, tzinfo=tzutc()),\n",
      "            'name': 'freesurferlicese.txt',\n",
      "            'origin': {'id': 'azeez.adebimpe5@gmail.com',\n",
      "                       'method': None,\n",
      "                       'name': None,\n",
      "                       'type': 'user',\n",
      "                       'via': None},\n",
      "            'replaced': None,\n",
      "            'size': 62,\n",
      "            'tags': [],\n",
      "            'type': 'text',\n",
      "            'zip_member_count': None}],\n",
      " 'group': 'mcieslak',\n",
      " 'id': '5c1a61e69011bd0011368884',\n",
      " 'info': {'BIDS': {'Acknowledgements': '',\n",
      "                   'Authors': [],\n",
      "                   'BIDSVersion': '1.0.2',\n",
      "                   'DatasetDOI': '',\n",
      "                   'Funding': '',\n",
      "                   'HowToAcknowledge': '',\n",
      "                   'License': '',\n",
      "                   'Name': 'Reward2018',\n",
      "                   'ReferencesAndLinks': [],\n",
      "                   'template': 'project'}},\n",
      " 'info_exists': True,\n",
      " 'label': 'Reward2018',\n",
      " 'modified': datetime.datetime(2019, 2, 12, 16, 8, 59, 700000, tzinfo=tzutc()),\n",
      " 'notes': [],\n",
      " 'parents': {'acquisition': None,\n",
      "             'analysis': None,\n",
      "             'group': 'mcieslak',\n",
      "             'project': None,\n",
      "             'session': None,\n",
      "             'subject': None},\n",
      " 'permissions': [{'access': 'admin', 'id': 'mcieslak@upenn.edu'}],\n",
      " 'public': None,\n",
      " 'tags': [],\n",
      " 'templates': None}\n"
     ]
    }
   ],
   "source": [
    "# How do you find the session?\n",
    "project = fw.projects.find_first('label=Reward2018')\n",
    "print(project)"
   ]
  },
  {
   "cell_type": "markdown",
   "metadata": {},
   "source": [
    "You'll notice that there is an `'_id'` field in all of these documents. This is the BSON id that is used to identify files in flywheel. Everything - files, subjects, sessions, analyses - has one of these that can be used for direct access. Confusingly, you can't access it directly with `project['id']`: you'll need to use `project['_id']`."
   ]
  },
  {
   "cell_type": "code",
   "execution_count": 8,
   "metadata": {},
   "outputs": [
    {
     "data": {
      "text/plain": [
       "'5c1a61e69011bd0011368884'"
      ]
     },
     "execution_count": 8,
     "metadata": {},
     "output_type": "execute_result"
    }
   ],
   "source": [
    "project['_id']"
   ]
  },
  {
   "cell_type": "markdown",
   "metadata": {},
   "source": []
  },
  {
   "cell_type": "code",
   "execution_count": 19,
   "metadata": {},
   "outputs": [],
   "source": [
    "sessions = project.sessions.find('created=2018-03-22')"
   ]
  },
  {
   "cell_type": "code",
   "execution_count": 20,
   "metadata": {},
   "outputs": [
    {
     "data": {
      "text/plain": [
       "[]"
      ]
     },
     "execution_count": 20,
     "metadata": {},
     "output_type": "execute_result"
    }
   ],
   "source": [
    "sessions"
   ]
  }
 ],
 "metadata": {
  "kernelspec": {
   "display_name": "Python 3",
   "language": "python",
   "name": "python3"
  },
  "language_info": {
   "codemirror_mode": {
    "name": "ipython",
    "version": 3
   },
   "file_extension": ".py",
   "mimetype": "text/x-python",
   "name": "python",
   "nbconvert_exporter": "python",
   "pygments_lexer": "ipython3",
   "version": "3.7.2"
  }
 },
 "nbformat": 4,
 "nbformat_minor": 2
}
