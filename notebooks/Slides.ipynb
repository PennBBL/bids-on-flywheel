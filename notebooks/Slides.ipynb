{
 "cells": [
  {
   "cell_type": "markdown",
   "metadata": {
    "slideshow": {
     "slide_type": "slide"
    }
   },
   "source": [
    "<center>\n",
    "    <h1>\n",
    "    Flywheel-BIDS Tools\n",
    "    </h1>    \n",
    "    <h2>\n",
    "    An introduction to the flywheel-bids toolkit for BBL\n",
    "    </h2>\n",
    "    \n",
    "    ![](../images/FullSizeRender.jpg)\n",
    "\n",
    "    <h4>\n",
    "    Tinashe Michael Tapera\n",
    "    </h4>\n",
    "    <h4>\n",
    "    March 12 2019\n",
    "    </h4>\n",
    "</center>"
   ]
  },
  {
   "cell_type": "markdown",
   "metadata": {
    "slideshow": {
     "slide_type": "slide"
    }
   },
   "source": [
    "# Why This Toolkit?\n",
    "\n",
    "* Flywheel-BIDS tools make editing Flywheel data easier\n",
    "* Bridge between point-and-click data management and programmatic data munging\n",
    "    * One-liner command line tools\n",
    "    * Helpful python function"
   ]
  },
  {
   "cell_type": "markdown",
   "metadata": {
    "slideshow": {
     "slide_type": "slide"
    }
   },
   "source": [
    "# Ideal Use-Case\n",
    "\n",
    "* Correcting data on Flywheel that has been uploaded incorrectly\n",
    "* Correcting data on Flywheel has been mislabeled by Flywheel programs (Gears)\n",
    "* Examining raw data on a large scale e.g. as a table\n",
    "* Downloading data on a large scale e.g. as a BIDS folder"
   ]
  },
  {
   "cell_type": "markdown",
   "metadata": {
    "slideshow": {
     "slide_type": "slide"
    }
   },
   "source": [
    "# Basic Use\n",
    "\n",
    "1. **Query Flywheel**\n",
    "\n",
    "`query-bids -proj -out`\n",
    "\n",
    "2. **Group query** \\*\\*\n",
    "\n",
    "`group-query -input -output -grps`\n",
    "\n",
    "\n",
    "3. **Edit data**\n",
    "In the editor of your choice; don't forget to keep in CSV format\n",
    "\n",
    "\n",
    "4. **Ungroup edits** \\*\\*\n",
    "\n",
    "`ungroup-query -grouped -mod -orig -output`\n",
    "\n",
    "5. **Upload edits**\n",
    "\n",
    "`upload-bids -orig -mod`\n",
    "\n",
    "\\** optional steps"
   ]
  },
  {
   "cell_type": "code",
   "execution_count": 1,
   "metadata": {
    "slideshow": {
     "slide_type": "slide"
    }
   },
   "outputs": [
    {
     "name": "stdout",
     "output_type": "stream",
     "text": [
      "Requirement already satisfied: flywheel-bids-tools in /data/joy/BBL/applications/miniconda3/envs/py2k/lib/python2.7/site-packages (0.0.2)\n",
      "\u001b[33mYou are using pip version 10.0.1, however version 19.0.3 is available.\n",
      "You should consider upgrading via the 'pip install --upgrade pip' command.\u001b[0m\n"
     ]
    }
   ],
   "source": [
    "# first install the tools from pip\n",
    "\n",
    "pip install flywheel-bids-tools\n",
    "\n",
    "# or upgrade if necessary\n",
    "pip install flywheel-bids-tools --upgrade"
   ]
  },
  {
   "cell_type": "code",
   "execution_count": 4,
   "metadata": {
    "slideshow": {
     "slide_type": "slide"
    }
   },
   "outputs": [
    {
     "name": "stdout",
     "output_type": "stream",
     "text": [
      "usage: query-bids [-h] -proj PROJECT [PROJECT ...] -output OUTPUT [-v VERBOSE]\n",
      "\n",
      "optional arguments:\n",
      "  -h, --help            show this help message and exit\n",
      "  -proj PROJECT [PROJECT ...], --project PROJECT [PROJECT ...]\n",
      "                        The project in flywheel to search for\n",
      "  -output OUTPUT, --output-file OUTPUT\n",
      "                        The path and name of the output CSV of the query\n",
      "  -v VERBOSE, --verbose VERBOSE\n",
      "                        Print out progress messages and information\n"
     ]
    }
   ],
   "source": [
    "# you can check if they've been uploaded by simply calling help\n",
    "\n",
    "query-bids -h"
   ]
  },
  {
   "cell_type": "markdown",
   "metadata": {
    "slideshow": {
     "slide_type": "slide"
    }
   },
   "source": [
    "# An Example\n",
    "\n",
    "Colleague: hey would you mind helping me edit some data on Flywheel? The Q7 DSI project has misclassified scans.\n",
    "Me:"
   ]
  },
  {
   "cell_type": "code",
   "execution_count": 5,
   "metadata": {},
   "outputs": [
    {
     "name": "stdout",
     "output_type": "stream",
     "text": [
      "Connecting to flywheel server...\n",
      "Querying server...\n",
      "WARNING:Flywheel:Use \"pip install flywheel-sdk~=5.0.4\" to install a compatible version for this server\n",
      "Processing acquisitions...\n",
      "100%|███████████████████████████████████████████| 16/16 [00:00<00:00, 16.41it/s]\n",
      "Extracting BIDS and MR Classifier information...\n",
      "100%|███████████████████████████████████████████| 78/78 [00:04<00:00, 19.23it/s]\n",
      "Traceback (most recent call last):\n",
      "  File \"/data/joy/BBL/applications/miniconda3/envs/py2k/bin/query-bids\", line 11, in <module>\n",
      "    sys.exit(main())\n",
      "  File \"/data/joy/BBL/applications/miniconda3/envs/py2k/lib/python2.7/site-packages/flywheel_bids_tools/query_bids.py\", line 264, in main\n",
      "    query_result = query_bids_validity(project, fw)\n",
      "  File \"/data/joy/BBL/applications/miniconda3/envs/py2k/lib/python2.7/site-packages/flywheel_bids_tools/query_bids.py\", line 219, in query_bids_validity\n",
      "    bids_classifications = pd.concat(bids_classifications)\n",
      "  File \"/data/joy/BBL/applications/miniconda3/envs/py2k/lib/python2.7/site-packages/pandas/core/reshape/concat.py\", line 225, in concat\n",
      "    copy=copy, sort=sort)\n",
      "  File \"/data/joy/BBL/applications/miniconda3/envs/py2k/lib/python2.7/site-packages/pandas/core/reshape/concat.py\", line 259, in __init__\n",
      "    raise ValueError('No objects to concatenate')\n",
      "ValueError: No objects to concatenate\n"
     ]
    },
    {
     "ename": "",
     "evalue": "1",
     "output_type": "error",
     "traceback": []
    }
   ],
   "source": [
    "query-bids -proj Q7 DSI -output ../data/DSI_query.csv"
   ]
  },
  {
   "cell_type": "code",
   "execution_count": null,
   "metadata": {},
   "outputs": [],
   "source": []
  }
 ],
 "metadata": {
  "celltoolbar": "Slideshow",
  "kernelspec": {
   "display_name": "Bash",
   "language": "bash",
   "name": "bash"
  },
  "language_info": {
   "codemirror_mode": "shell",
   "file_extension": ".sh",
   "mimetype": "text/x-sh",
   "name": "bash"
  }
 },
 "nbformat": 4,
 "nbformat_minor": 2
}
