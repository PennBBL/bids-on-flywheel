{
 "cells": [
  {
   "cell_type": "markdown",
   "metadata": {},
   "source": [
    "# Adjusting BIDS Info\n",
    "\n",
    "Here, using knowledge from our [bids querying notebook](./Querying_BIDS_Validity.ipynb) we can start to adjust the BIDS data for each acquisition."
   ]
  },
  {
   "cell_type": "code",
   "execution_count": 1,
   "metadata": {},
   "outputs": [],
   "source": [
    "import flywheel\n",
    "import pandas\n",
    "# add the script to the path\n",
    "import sys\n",
    "import os\n",
    "sys.path.append(os.path.abspath(\"/home/ttapera/bids-on-flywheel/scripts\"))\n",
    "import query_bids"
   ]
  },
  {
   "cell_type": "code",
   "execution_count": 2,
   "metadata": {},
   "outputs": [],
   "source": [
    "fw = flywheel.Client()"
   ]
  },
  {
   "cell_type": "code",
   "execution_count": 3,
   "metadata": {},
   "outputs": [
    {
     "name": "stdout",
     "output_type": "stream",
     "text": [
      "Connecting to flywheel server...\n",
      "Querying server...\n",
      "Processing acquisitions...\n",
      "Extracting BIDS information...\n",
      "Tidying and returning the results...\n"
     ]
    },
    {
     "name": "stderr",
     "output_type": "stream",
     "text": [
      "/home/ttapera/bids-on-flywheel/scripts/query_bids_validity.py:83: SettingWithCopyWarning: \n",
      "A value is trying to be set on a copy of a slice from a DataFrame\n",
      "\n",
      "See the caveats in the documentation: http://pandas.pydata.org/pandas-docs/stable/indexing.html#indexing-view-versus-copy\n",
      "  merged_data['valid'][merged_data['valid'].isnull()] = False\n"
     ]
    }
   ],
   "source": [
    "df = query_bids.query_bids_validity(\"Reward2018\", fw, verbose=False)"
   ]
  },
  {
   "cell_type": "markdown",
   "metadata": {},
   "source": [
    "Above, we queried the reward data on flywheel and were returned with the following dataset:"
   ]
  },
  {
   "cell_type": "code",
   "execution_count": 4,
   "metadata": {},
   "outputs": [
    {
     "data": {
      "text/html": [
       "<div>\n",
       "<style scoped>\n",
       "    .dataframe tbody tr th:only-of-type {\n",
       "        vertical-align: middle;\n",
       "    }\n",
       "\n",
       "    .dataframe tbody tr th {\n",
       "        vertical-align: top;\n",
       "    }\n",
       "\n",
       "    .dataframe thead th {\n",
       "        text-align: right;\n",
       "    }\n",
       "</style>\n",
       "<table border=\"1\" class=\"dataframe\">\n",
       "  <thead>\n",
       "    <tr style=\"text-align: right;\">\n",
       "      <th></th>\n",
       "      <th>acquisition.label</th>\n",
       "      <th>valid</th>\n",
       "      <th>acquisition.id</th>\n",
       "      <th>project.label</th>\n",
       "      <th>session.label</th>\n",
       "      <th>subject.label</th>\n",
       "      <th>Filename</th>\n",
       "      <th>Folder</th>\n",
       "      <th>IntendedFor</th>\n",
       "      <th>Mod</th>\n",
       "      <th>Modality</th>\n",
       "      <th>Path</th>\n",
       "      <th>Rec</th>\n",
       "      <th>Run</th>\n",
       "      <th>Task</th>\n",
       "      <th>error_message</th>\n",
       "      <th>ignore</th>\n",
       "      <th>template</th>\n",
       "    </tr>\n",
       "  </thead>\n",
       "  <tbody>\n",
       "    <tr>\n",
       "      <th>0</th>\n",
       "      <td>bbl1_restbold_mb6_742</td>\n",
       "      <td>False</td>\n",
       "      <td>5c1a70239011bd001436894e</td>\n",
       "      <td>Reward2018</td>\n",
       "      <td>7944</td>\n",
       "      <td>100088</td>\n",
       "      <td>NaN</td>\n",
       "      <td>NaN</td>\n",
       "      <td>NaN</td>\n",
       "      <td>NaN</td>\n",
       "      <td>NaN</td>\n",
       "      <td>NaN</td>\n",
       "      <td>NaN</td>\n",
       "      <td>NaN</td>\n",
       "      <td>NaN</td>\n",
       "      <td>NaN</td>\n",
       "      <td>NaN</td>\n",
       "      <td>NaN</td>\n",
       "    </tr>\n",
       "    <tr>\n",
       "      <th>1</th>\n",
       "      <td>ep2d_itc1_168</td>\n",
       "      <td>False</td>\n",
       "      <td>5c1a70239011bd001536887c</td>\n",
       "      <td>Reward2018</td>\n",
       "      <td>7944</td>\n",
       "      <td>100088</td>\n",
       "      <td>NaN</td>\n",
       "      <td>NaN</td>\n",
       "      <td>NaN</td>\n",
       "      <td>NaN</td>\n",
       "      <td>NaN</td>\n",
       "      <td>NaN</td>\n",
       "      <td>NaN</td>\n",
       "      <td>NaN</td>\n",
       "      <td>NaN</td>\n",
       "      <td>NaN</td>\n",
       "      <td>NaN</td>\n",
       "      <td>NaN</td>\n",
       "    </tr>\n",
       "    <tr>\n",
       "      <th>2</th>\n",
       "      <td>bbl1_cardB0_178</td>\n",
       "      <td>False</td>\n",
       "      <td>5c1a70239011bd001536887d</td>\n",
       "      <td>Reward2018</td>\n",
       "      <td>7944</td>\n",
       "      <td>100088</td>\n",
       "      <td>NaN</td>\n",
       "      <td>NaN</td>\n",
       "      <td>NaN</td>\n",
       "      <td>NaN</td>\n",
       "      <td>NaN</td>\n",
       "      <td>NaN</td>\n",
       "      <td>NaN</td>\n",
       "      <td>NaN</td>\n",
       "      <td>NaN</td>\n",
       "      <td>NaN</td>\n",
       "      <td>NaN</td>\n",
       "      <td>NaN</td>\n",
       "    </tr>\n",
       "    <tr>\n",
       "      <th>3</th>\n",
       "      <td>b0map_v4</td>\n",
       "      <td>False</td>\n",
       "      <td>5c1a70239011bd00113688a2</td>\n",
       "      <td>Reward2018</td>\n",
       "      <td>7944</td>\n",
       "      <td>100088</td>\n",
       "      <td>NaN</td>\n",
       "      <td>NaN</td>\n",
       "      <td>NaN</td>\n",
       "      <td>NaN</td>\n",
       "      <td>NaN</td>\n",
       "      <td>NaN</td>\n",
       "      <td>NaN</td>\n",
       "      <td>NaN</td>\n",
       "      <td>NaN</td>\n",
       "      <td>NaN</td>\n",
       "      <td>NaN</td>\n",
       "      <td>NaN</td>\n",
       "    </tr>\n",
       "    <tr>\n",
       "      <th>4</th>\n",
       "      <td>bbl1_cardA0_178</td>\n",
       "      <td>False</td>\n",
       "      <td>5c1a70239011bd001436894f</td>\n",
       "      <td>Reward2018</td>\n",
       "      <td>7944</td>\n",
       "      <td>100088</td>\n",
       "      <td>NaN</td>\n",
       "      <td>NaN</td>\n",
       "      <td>NaN</td>\n",
       "      <td>NaN</td>\n",
       "      <td>NaN</td>\n",
       "      <td>NaN</td>\n",
       "      <td>NaN</td>\n",
       "      <td>NaN</td>\n",
       "      <td>NaN</td>\n",
       "      <td>NaN</td>\n",
       "      <td>NaN</td>\n",
       "      <td>NaN</td>\n",
       "    </tr>\n",
       "  </tbody>\n",
       "</table>\n",
       "</div>"
      ],
      "text/plain": [
       "       acquisition.label  valid            acquisition.id project.label  \\\n",
       "0  bbl1_restbold_mb6_742  False  5c1a70239011bd001436894e    Reward2018   \n",
       "1          ep2d_itc1_168  False  5c1a70239011bd001536887c    Reward2018   \n",
       "2        bbl1_cardB0_178  False  5c1a70239011bd001536887d    Reward2018   \n",
       "3               b0map_v4  False  5c1a70239011bd00113688a2    Reward2018   \n",
       "4        bbl1_cardA0_178  False  5c1a70239011bd001436894f    Reward2018   \n",
       "\n",
       "  session.label  subject.label Filename Folder IntendedFor  Mod Modality Path  \\\n",
       "0          7944         100088      NaN    NaN         NaN  NaN      NaN  NaN   \n",
       "1          7944         100088      NaN    NaN         NaN  NaN      NaN  NaN   \n",
       "2          7944         100088      NaN    NaN         NaN  NaN      NaN  NaN   \n",
       "3          7944         100088      NaN    NaN         NaN  NaN      NaN  NaN   \n",
       "4          7944         100088      NaN    NaN         NaN  NaN      NaN  NaN   \n",
       "\n",
       "   Rec  Run Task error_message ignore template  \n",
       "0  NaN  NaN  NaN           NaN    NaN      NaN  \n",
       "1  NaN  NaN  NaN           NaN    NaN      NaN  \n",
       "2  NaN  NaN  NaN           NaN    NaN      NaN  \n",
       "3  NaN  NaN  NaN           NaN    NaN      NaN  \n",
       "4  NaN  NaN  NaN           NaN    NaN      NaN  "
      ]
     },
     "execution_count": 4,
     "metadata": {},
     "output_type": "execute_result"
    }
   ],
   "source": [
    "df.head()"
   ]
  },
  {
   "cell_type": "markdown",
   "metadata": {},
   "source": [
    "We could have done this with the following one-liner at the command line:\n",
    "\n",
    "```\n",
    "python query_bids.py Reward2018\n",
    "```\n",
    "\n",
    "As we can see in the `valid` column, many acquisitions did not pass BIDS the BIDS classifier. Using acquisition IDs, we can test how to edit data on Flywheel. \n",
    "\n",
    "# Adjusting Misclassified Data\n",
    "\n",
    "This participant was successfully classified by BIDS, but had files that were incorrectly processed:\n",
    "\n",
    "<img src=\"../images/initial_bids_error.png\" alt=\"drawing\" width=\"600\"/>\n",
    "\n",
    "In the dataframe from Flywheel, we can see their error message:"
   ]
  },
  {
   "cell_type": "code",
   "execution_count": 13,
   "metadata": {},
   "outputs": [
    {
     "data": {
      "text/html": [
       "<div>\n",
       "<style scoped>\n",
       "    .dataframe tbody tr th:only-of-type {\n",
       "        vertical-align: middle;\n",
       "    }\n",
       "\n",
       "    .dataframe tbody tr th {\n",
       "        vertical-align: top;\n",
       "    }\n",
       "\n",
       "    .dataframe thead th {\n",
       "        text-align: right;\n",
       "    }\n",
       "</style>\n",
       "<table border=\"1\" class=\"dataframe\">\n",
       "  <thead>\n",
       "    <tr style=\"text-align: right;\">\n",
       "      <th></th>\n",
       "      <th>acquisition.label</th>\n",
       "      <th>valid</th>\n",
       "      <th>acquisition.id</th>\n",
       "      <th>project.label</th>\n",
       "      <th>session.label</th>\n",
       "      <th>subject.label</th>\n",
       "      <th>Filename</th>\n",
       "      <th>Folder</th>\n",
       "      <th>IntendedFor</th>\n",
       "      <th>Mod</th>\n",
       "      <th>Modality</th>\n",
       "      <th>Path</th>\n",
       "      <th>Rec</th>\n",
       "      <th>Run</th>\n",
       "      <th>Task</th>\n",
       "      <th>error_message</th>\n",
       "      <th>ignore</th>\n",
       "      <th>template</th>\n",
       "    </tr>\n",
       "  </thead>\n",
       "  <tbody>\n",
       "    <tr>\n",
       "      <th>2362</th>\n",
       "      <td>ep2d_effort3_1416</td>\n",
       "      <td>False</td>\n",
       "      <td>5c1a82ca9011bd0013369086</td>\n",
       "      <td>Reward2018</td>\n",
       "      <td>neff2</td>\n",
       "      <td>19830</td>\n",
       "      <td>sub-19830_ses-neff2_task-{file.info.BIDS.Task}...</td>\n",
       "      <td>func</td>\n",
       "      <td>NaN</td>\n",
       "      <td>NaN</td>\n",
       "      <td>bold</td>\n",
       "      <td>sub-19830/ses-neff2/func</td>\n",
       "      <td></td>\n",
       "      <td></td>\n",
       "      <td></td>\n",
       "      <td>Task u'' does not match '^[a-zA-Z0-9]+$'</td>\n",
       "      <td>False</td>\n",
       "      <td>func_file</td>\n",
       "    </tr>\n",
       "    <tr>\n",
       "      <th>2363</th>\n",
       "      <td>ep2d_effort1_236</td>\n",
       "      <td>True</td>\n",
       "      <td>5c1a82ca9011bd0011368ecf</td>\n",
       "      <td>Reward2018</td>\n",
       "      <td>neff2</td>\n",
       "      <td>19830</td>\n",
       "      <td>sub-19830_ses-neff2_task-effort_run-1_sbref.ni...</td>\n",
       "      <td>func</td>\n",
       "      <td>NaN</td>\n",
       "      <td>NaN</td>\n",
       "      <td>sbref</td>\n",
       "      <td>sub-19830/ses-neff2/func</td>\n",
       "      <td></td>\n",
       "      <td></td>\n",
       "      <td>effort1</td>\n",
       "      <td>Fixed manually</td>\n",
       "      <td>False</td>\n",
       "      <td>func_file</td>\n",
       "    </tr>\n",
       "    <tr>\n",
       "      <th>2364</th>\n",
       "      <td>MPRAGE_TI1100_ipat2</td>\n",
       "      <td>True</td>\n",
       "      <td>5c1a82ca9011bd0013369087</td>\n",
       "      <td>Reward2018</td>\n",
       "      <td>neff2</td>\n",
       "      <td>19830</td>\n",
       "      <td>sub-19830_ses-neff2_T1w.nii.gz</td>\n",
       "      <td>anat</td>\n",
       "      <td>NaN</td>\n",
       "      <td></td>\n",
       "      <td>T1w</td>\n",
       "      <td>sub-19830/ses-neff2/anat</td>\n",
       "      <td></td>\n",
       "      <td></td>\n",
       "      <td>NaN</td>\n",
       "      <td></td>\n",
       "      <td>False</td>\n",
       "      <td>anat_file</td>\n",
       "    </tr>\n",
       "    <tr>\n",
       "      <th>2365</th>\n",
       "      <td>sag mpr</td>\n",
       "      <td>False</td>\n",
       "      <td>5c1a82ca9011bd00143693a7</td>\n",
       "      <td>Reward2018</td>\n",
       "      <td>neff2</td>\n",
       "      <td>19830</td>\n",
       "      <td>NaN</td>\n",
       "      <td>NaN</td>\n",
       "      <td>NaN</td>\n",
       "      <td>NaN</td>\n",
       "      <td>NaN</td>\n",
       "      <td>NaN</td>\n",
       "      <td>NaN</td>\n",
       "      <td>NaN</td>\n",
       "      <td>NaN</td>\n",
       "      <td>NaN</td>\n",
       "      <td>NaN</td>\n",
       "      <td>NaN</td>\n",
       "    </tr>\n",
       "    <tr>\n",
       "      <th>2366</th>\n",
       "      <td>ep2d_effort2_236</td>\n",
       "      <td>True</td>\n",
       "      <td>5c1a82ca9011bd0011368ed0</td>\n",
       "      <td>Reward2018</td>\n",
       "      <td>neff2</td>\n",
       "      <td>19830</td>\n",
       "      <td>sub-19830_ses-neff2_task-effort_run-2_sbref.ni...</td>\n",
       "      <td>func</td>\n",
       "      <td>NaN</td>\n",
       "      <td>NaN</td>\n",
       "      <td>sbref</td>\n",
       "      <td>sub-19830/ses-neff2/func</td>\n",
       "      <td></td>\n",
       "      <td></td>\n",
       "      <td>Effort2</td>\n",
       "      <td>Task u'' does not match '^[a-zA-Z0-9]+$'</td>\n",
       "      <td>False</td>\n",
       "      <td>func_file</td>\n",
       "    </tr>\n",
       "    <tr>\n",
       "      <th>2367</th>\n",
       "      <td>foo</td>\n",
       "      <td>False</td>\n",
       "      <td>5c1a82ca9011bd0011368ed1</td>\n",
       "      <td>Reward2018</td>\n",
       "      <td>neff2</td>\n",
       "      <td>19830</td>\n",
       "      <td>NaN</td>\n",
       "      <td>NaN</td>\n",
       "      <td>NaN</td>\n",
       "      <td>NaN</td>\n",
       "      <td>NaN</td>\n",
       "      <td>NaN</td>\n",
       "      <td>NaN</td>\n",
       "      <td>NaN</td>\n",
       "      <td>NaN</td>\n",
       "      <td>NaN</td>\n",
       "      <td>NaN</td>\n",
       "      <td>NaN</td>\n",
       "    </tr>\n",
       "    <tr>\n",
       "      <th>2368</th>\n",
       "      <td>PhoenixZIPReport</td>\n",
       "      <td>False</td>\n",
       "      <td>5c1a82ca9011bd00143693a8</td>\n",
       "      <td>Reward2018</td>\n",
       "      <td>neff2</td>\n",
       "      <td>19830</td>\n",
       "      <td>NaN</td>\n",
       "      <td>NaN</td>\n",
       "      <td>NaN</td>\n",
       "      <td>NaN</td>\n",
       "      <td>NaN</td>\n",
       "      <td>NaN</td>\n",
       "      <td>NaN</td>\n",
       "      <td>NaN</td>\n",
       "      <td>NaN</td>\n",
       "      <td>NaN</td>\n",
       "      <td>NaN</td>\n",
       "      <td>NaN</td>\n",
       "    </tr>\n",
       "    <tr>\n",
       "      <th>2369</th>\n",
       "      <td>B0map_onesizefitsall_v4</td>\n",
       "      <td>False</td>\n",
       "      <td>5c1a82ca9011bd0013369088</td>\n",
       "      <td>Reward2018</td>\n",
       "      <td>neff2</td>\n",
       "      <td>19830</td>\n",
       "      <td>NaN</td>\n",
       "      <td>NaN</td>\n",
       "      <td>NaN</td>\n",
       "      <td>NaN</td>\n",
       "      <td>NaN</td>\n",
       "      <td>NaN</td>\n",
       "      <td>NaN</td>\n",
       "      <td>NaN</td>\n",
       "      <td>NaN</td>\n",
       "      <td>NaN</td>\n",
       "      <td>NaN</td>\n",
       "      <td>NaN</td>\n",
       "    </tr>\n",
       "    <tr>\n",
       "      <th>2370</th>\n",
       "      <td>localizer</td>\n",
       "      <td>False</td>\n",
       "      <td>5c1a82ca9011bd0013369089</td>\n",
       "      <td>Reward2018</td>\n",
       "      <td>neff2</td>\n",
       "      <td>19830</td>\n",
       "      <td>NaN</td>\n",
       "      <td>NaN</td>\n",
       "      <td>NaN</td>\n",
       "      <td>NaN</td>\n",
       "      <td>NaN</td>\n",
       "      <td>NaN</td>\n",
       "      <td>NaN</td>\n",
       "      <td>NaN</td>\n",
       "      <td>NaN</td>\n",
       "      <td>NaN</td>\n",
       "      <td>NaN</td>\n",
       "      <td>NaN</td>\n",
       "    </tr>\n",
       "    <tr>\n",
       "      <th>2371</th>\n",
       "      <td>ep2d_single</td>\n",
       "      <td>False</td>\n",
       "      <td>5c1a82ca9011bd00143693a9</td>\n",
       "      <td>Reward2018</td>\n",
       "      <td>neff2</td>\n",
       "      <td>19830</td>\n",
       "      <td>sub-19830_ses-neff2_task-{file.info.BIDS.Task}...</td>\n",
       "      <td>func</td>\n",
       "      <td>NaN</td>\n",
       "      <td>NaN</td>\n",
       "      <td>sbref</td>\n",
       "      <td>sub-19830/ses-neff2/func</td>\n",
       "      <td></td>\n",
       "      <td></td>\n",
       "      <td></td>\n",
       "      <td>Task u'' does not match '^[a-zA-Z0-9]+$'</td>\n",
       "      <td>False</td>\n",
       "      <td>func_file</td>\n",
       "    </tr>\n",
       "  </tbody>\n",
       "</table>\n",
       "</div>"
      ],
      "text/plain": [
       "            acquisition.label  valid            acquisition.id project.label  \\\n",
       "2362        ep2d_effort3_1416  False  5c1a82ca9011bd0013369086    Reward2018   \n",
       "2363         ep2d_effort1_236   True  5c1a82ca9011bd0011368ecf    Reward2018   \n",
       "2364      MPRAGE_TI1100_ipat2   True  5c1a82ca9011bd0013369087    Reward2018   \n",
       "2365                  sag mpr  False  5c1a82ca9011bd00143693a7    Reward2018   \n",
       "2366         ep2d_effort2_236   True  5c1a82ca9011bd0011368ed0    Reward2018   \n",
       "2367                      foo  False  5c1a82ca9011bd0011368ed1    Reward2018   \n",
       "2368         PhoenixZIPReport  False  5c1a82ca9011bd00143693a8    Reward2018   \n",
       "2369  B0map_onesizefitsall_v4  False  5c1a82ca9011bd0013369088    Reward2018   \n",
       "2370                localizer  False  5c1a82ca9011bd0013369089    Reward2018   \n",
       "2371              ep2d_single  False  5c1a82ca9011bd00143693a9    Reward2018   \n",
       "\n",
       "     session.label  subject.label  \\\n",
       "2362         neff2          19830   \n",
       "2363         neff2          19830   \n",
       "2364         neff2          19830   \n",
       "2365         neff2          19830   \n",
       "2366         neff2          19830   \n",
       "2367         neff2          19830   \n",
       "2368         neff2          19830   \n",
       "2369         neff2          19830   \n",
       "2370         neff2          19830   \n",
       "2371         neff2          19830   \n",
       "\n",
       "                                               Filename Folder IntendedFor  \\\n",
       "2362  sub-19830_ses-neff2_task-{file.info.BIDS.Task}...   func         NaN   \n",
       "2363  sub-19830_ses-neff2_task-effort_run-1_sbref.ni...   func         NaN   \n",
       "2364                     sub-19830_ses-neff2_T1w.nii.gz   anat         NaN   \n",
       "2365                                                NaN    NaN         NaN   \n",
       "2366  sub-19830_ses-neff2_task-effort_run-2_sbref.ni...   func         NaN   \n",
       "2367                                                NaN    NaN         NaN   \n",
       "2368                                                NaN    NaN         NaN   \n",
       "2369                                                NaN    NaN         NaN   \n",
       "2370                                                NaN    NaN         NaN   \n",
       "2371  sub-19830_ses-neff2_task-{file.info.BIDS.Task}...   func         NaN   \n",
       "\n",
       "      Mod Modality                      Path  Rec  Run     Task  \\\n",
       "2362  NaN     bold  sub-19830/ses-neff2/func                      \n",
       "2363  NaN    sbref  sub-19830/ses-neff2/func            effort1   \n",
       "2364           T1w  sub-19830/ses-neff2/anat                NaN   \n",
       "2365  NaN      NaN                       NaN  NaN  NaN      NaN   \n",
       "2366  NaN    sbref  sub-19830/ses-neff2/func            Effort2   \n",
       "2367  NaN      NaN                       NaN  NaN  NaN      NaN   \n",
       "2368  NaN      NaN                       NaN  NaN  NaN      NaN   \n",
       "2369  NaN      NaN                       NaN  NaN  NaN      NaN   \n",
       "2370  NaN      NaN                       NaN  NaN  NaN      NaN   \n",
       "2371  NaN    sbref  sub-19830/ses-neff2/func                      \n",
       "\n",
       "                                 error_message ignore   template  \n",
       "2362  Task u'' does not match '^[a-zA-Z0-9]+$'  False  func_file  \n",
       "2363                            Fixed manually  False  func_file  \n",
       "2364                                            False  anat_file  \n",
       "2365                                       NaN    NaN        NaN  \n",
       "2366  Task u'' does not match '^[a-zA-Z0-9]+$'  False  func_file  \n",
       "2367                                       NaN    NaN        NaN  \n",
       "2368                                       NaN    NaN        NaN  \n",
       "2369                                       NaN    NaN        NaN  \n",
       "2370                                       NaN    NaN        NaN  \n",
       "2371  Task u'' does not match '^[a-zA-Z0-9]+$'  False  func_file  "
      ]
     },
     "execution_count": 13,
     "metadata": {},
     "output_type": "execute_result"
    }
   ],
   "source": [
    "df[df['subject.label'] == 19830]"
   ]
  },
  {
   "cell_type": "markdown",
   "metadata": {},
   "source": [
    "Let's try to edit their effort scan `ep2d_effort1_236`."
   ]
  },
  {
   "cell_type": "code",
   "execution_count": 6,
   "metadata": {},
   "outputs": [],
   "source": [
    "acquisition = fw.get(\"5c1a82ca9011bd0011368ecf\")"
   ]
  },
  {
   "cell_type": "markdown",
   "metadata": {},
   "source": [
    "In this acquisition there is are three files: the original dicom, the BIDS curated nifti, and a quality assessment file"
   ]
  },
  {
   "cell_type": "code",
   "execution_count": 7,
   "metadata": {
    "scrolled": false
   },
   "outputs": [
    {
     "data": {
      "text/plain": [
       "3"
      ]
     },
     "execution_count": 7,
     "metadata": {},
     "output_type": "execute_result"
    }
   ],
   "source": [
    "len(acquisition.files)"
   ]
  },
  {
   "cell_type": "code",
   "execution_count": 8,
   "metadata": {},
   "outputs": [],
   "source": [
    "nifti = [x for x in acquisition.files if x['type'] == 'nifti']\n",
    "nifti = nifti[0]"
   ]
  },
  {
   "cell_type": "markdown",
   "metadata": {},
   "source": [
    "And the nifti info is here:"
   ]
  },
  {
   "cell_type": "code",
   "execution_count": 9,
   "metadata": {},
   "outputs": [
    {
     "data": {
      "text/plain": [
       "{u'Acq': u'',\n",
       " u'Echo': u'',\n",
       " u'Filename': u'sub-19830_ses-neff2_task-effort_run-1_sbref.nii.gz',\n",
       " u'Folder': u'func',\n",
       " u'Modality': u'sbref',\n",
       " u'Path': u'sub-19830/ses-neff2/func',\n",
       " u'Rec': u'',\n",
       " u'Run': u'',\n",
       " u'Task': u'effort1',\n",
       " u'error_message': u'Fixed manually',\n",
       " u'ignore': False,\n",
       " u'template': u'func_file',\n",
       " u'valid': True}"
      ]
     },
     "execution_count": 9,
     "metadata": {},
     "output_type": "execute_result"
    }
   ],
   "source": [
    "nifti['info']['BIDS']"
   ]
  },
  {
   "cell_type": "markdown",
   "metadata": {},
   "source": [
    "As long as the data is still a Flywheel object, we can edit it and use the `update` method to affect the changes on the warehouse:"
   ]
  },
  {
   "cell_type": "code",
   "execution_count": 10,
   "metadata": {},
   "outputs": [],
   "source": [
    "nifti['info']['BIDS']['Task'] = \"effort1\""
   ]
  },
  {
   "cell_type": "code",
   "execution_count": 11,
   "metadata": {},
   "outputs": [
    {
     "data": {
      "text/plain": [
       "{u'Acq': u'',\n",
       " u'Echo': u'',\n",
       " u'Filename': u'sub-19830_ses-neff2_task-effort_run-1_sbref.nii.gz',\n",
       " u'Folder': u'func',\n",
       " u'Modality': u'sbref',\n",
       " u'Path': u'sub-19830/ses-neff2/func',\n",
       " u'Rec': u'',\n",
       " u'Run': u'',\n",
       " u'Task': 'effort1',\n",
       " u'error_message': u'Fixed manually',\n",
       " u'ignore': False,\n",
       " u'template': u'func_file',\n",
       " u'valid': True}"
      ]
     },
     "execution_count": 11,
     "metadata": {},
     "output_type": "execute_result"
    }
   ],
   "source": [
    "nifti['info']['BIDS']"
   ]
  },
  {
   "cell_type": "code",
   "execution_count": 16,
   "metadata": {},
   "outputs": [],
   "source": [
    "BIDS = nifti['info']['BIDS']\n",
    "BIDS['Task'] = \"effort1\"\n",
    "BIDS['Filename'] = u'sub-19830_ses-neff2_task-effort_run-1_sbref.nii.gz'\n",
    "BIDS['error_message'] = 'Fixed manually'\n",
    "BIDS['valid'] = True"
   ]
  },
  {
   "cell_type": "code",
   "execution_count": 17,
   "metadata": {},
   "outputs": [
    {
     "data": {
      "text/plain": [
       "{u'Acq': u'',\n",
       " u'Echo': u'',\n",
       " u'Filename': u'sub-19830_ses-neff2_task-effort_run-1_sbref.nii.gz',\n",
       " u'Folder': u'func',\n",
       " u'Modality': u'sbref',\n",
       " u'Path': u'sub-19830/ses-neff2/func',\n",
       " u'Rec': u'',\n",
       " u'Run': u'',\n",
       " u'Task': 'effort1',\n",
       " u'error_message': 'Fixed manually',\n",
       " u'ignore': False,\n",
       " u'template': u'func_file',\n",
       " u'valid': True}"
      ]
     },
     "execution_count": 17,
     "metadata": {},
     "output_type": "execute_result"
    }
   ],
   "source": [
    "BIDS"
   ]
  },
  {
   "cell_type": "code",
   "execution_count": 18,
   "metadata": {},
   "outputs": [
    {
     "data": {
      "text/plain": [
       "{'modified': 1}"
      ]
     },
     "execution_count": 18,
     "metadata": {},
     "output_type": "execute_result"
    }
   ],
   "source": [
    "nifti.update_info({'BIDS' : BIDS})"
   ]
  },
  {
   "cell_type": "markdown",
   "metadata": {},
   "source": [
    "Now, if you look at the entry in flywheel, the file has been adjusted and the error flag removed:\n",
    "<img src=\"images/error_removed.png\" alt=\"drawing\" width=\"600\"/>\n",
    "\n",
    "We could improve this process by creating a function that takes in BIDS info from a form and automatically updates each of these."
   ]
  },
  {
   "cell_type": "code",
   "execution_count": null,
   "metadata": {},
   "outputs": [],
   "source": []
  }
 ],
 "metadata": {
  "kernelspec": {
   "display_name": "Python 2",
   "language": "python",
   "name": "python2"
  },
  "language_info": {
   "codemirror_mode": {
    "name": "ipython",
    "version": 2
   },
   "file_extension": ".py",
   "mimetype": "text/x-python",
   "name": "python",
   "nbconvert_exporter": "python",
   "pygments_lexer": "ipython2",
   "version": "2.7.15"
  }
 },
 "nbformat": 4,
 "nbformat_minor": 2
}
