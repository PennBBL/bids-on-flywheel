{
 "cells": [
  {
   "cell_type": "markdown",
   "metadata": {
    "slideshow": {
     "slide_type": "slide"
    }
   },
   "source": [
    "<center><h1>Flywheel-BIDS Tools</h1></center>\n",
    "<center><h2>An introduction to the flywheel-bids toolkit for BBL</h2></center>\n",
    "<center>\n",
    "<img src=\"http://drive.google.com/uc?export=view&id=1XbfC3HKd3xGFvlJ_sA6OkNKl9IQGZsDG\">\n",
    "</center>\n",
    "<center>Tinashe Michael Tapera<br>March 12 2019</center>"
   ]
  },
  {
   "cell_type": "markdown",
   "metadata": {
    "slideshow": {
     "slide_type": "slide"
    }
   },
   "source": [
    "# Why This Toolkit?\n",
    "\n",
    "* Flywheel-BIDS tools make editing Flywheel data easier\n",
    "* Bridge between point-and-click data management (GUI) and programmatic data munging (SDK w/ Python, R, Bash):\n",
    "    * One-liner command line tools\n",
    "    * Helpful python functions\n",
    "    * At your disposal and your discretion"
   ]
  },
  {
   "cell_type": "markdown",
   "metadata": {
    "slideshow": {
     "slide_type": "slide"
    }
   },
   "source": [
    "# Ideal Use-Cases\n",
    "\n",
    "* Correcting data on Flywheel that has been uploaded incorrectly\n",
    "* Correcting data on Flywheel has been mislabeled by Flywheel programs (Gears)\n",
    "* Examining raw data on a large scale e.g. as a table\n",
    "* Downloading data on a large scale e.g. as a BIDS folder"
   ]
  },
  {
   "cell_type": "markdown",
   "metadata": {
    "slideshow": {
     "slide_type": "slide"
    }
   },
   "source": [
    "# Basic Use\n",
    "\n",
    "1. **Query Flywheel**\n",
    "\n",
    " `query-bids -proj -out`\n",
    "\n",
    "2. **Group query** \\*\\*\n",
    "\n",
    " `group-query -input -output -grps`\n",
    "\n",
    "\n",
    "3. **Edit data**\n",
    " In the editor of your choice; don't forget to keep in CSV format\n",
    "\n",
    "\n",
    "4. **Ungroup edits** \\*\\*\n",
    "\n",
    " `ungroup-query -grouped -mod -orig -output`\n",
    "\n",
    "5. **Upload edits**\n",
    "\n",
    " `upload-bids -orig -mod`\n",
    "\n",
    "\\** optional steps"
   ]
  },
  {
   "cell_type": "code",
   "execution_count": null,
   "metadata": {
    "slideshow": {
     "slide_type": "slide"
    }
   },
   "outputs": [],
   "source": [
    "%%bash\n",
    "# first install the tools from pip\n",
    "\n",
    "pip install flywheel-bids-tools\n",
    "\n",
    "# or upgrade if necessary\n",
    "pip install flywheel-bids-tools --upgrade"
   ]
  },
  {
   "cell_type": "code",
   "execution_count": 4,
   "metadata": {
    "slideshow": {
     "slide_type": "fragment"
    }
   },
   "outputs": [
    {
     "name": "stdout",
     "output_type": "stream",
     "text": [
      "usage: query-bids [-h] -proj PROJECT [PROJECT ...] -output OUTPUT [-v VERBOSE]\n",
      "\n",
      "optional arguments:\n",
      "  -h, --help            show this help message and exit\n",
      "  -proj PROJECT [PROJECT ...], --project PROJECT [PROJECT ...]\n",
      "                        The project in flywheel to search for\n",
      "  -output OUTPUT, --output-file OUTPUT\n",
      "                        The path and name of the output CSV of the query\n",
      "  -v VERBOSE, --verbose VERBOSE\n",
      "                        Print out progress messages and information\n"
     ]
    }
   ],
   "source": [
    "%%bash\n",
    "# you can check if they've been downloaded by simply calling help\n",
    "\n",
    "query-bids -h"
   ]
  },
  {
   "cell_type": "markdown",
   "metadata": {
    "slideshow": {
     "slide_type": "slide"
    }
   },
   "source": [
    "# An Example\n",
    "\n",
    "Colleague: hey would you mind helping me edit some data on Flywheel? The **Q7 DSI project** has **misclassified scans**.\n",
    "\n",
    "Me:\n",
    "<img src=\"http://drive.google.com/uc?export=view&id=1iL6t1i4jSVo2vSNDzQeoHkb_1rJK5A5N\">"
   ]
  },
  {
   "cell_type": "markdown",
   "metadata": {
    "slideshow": {
     "slide_type": "slide"
    }
   },
   "source": [
    "# Step 1: Query Flywheel\n",
    "\n",
    "First, we query flywheel for the project we want:"
   ]
  },
  {
   "cell_type": "code",
   "execution_count": 36,
   "metadata": {
    "slideshow": {
     "slide_type": "fragment"
    }
   },
   "outputs": [
    {
     "name": "stdout",
     "output_type": "stream",
     "text": [
      "Connecting to flywheel server...\n",
      "Querying server...\n",
      "Processing acquisitions...\n",
      "Extracting BIDS and MR Classifier information...\n",
      "Tidying and returning the results...\n",
      "0 acquisitions could not be processed.\n",
      "78 acquisitions do not have BIDS information yet.\n",
      "Done!\n"
     ]
    },
    {
     "name": "stderr",
     "output_type": "stream",
     "text": [
      "\r",
      "  0%|          | 0/16 [00:00<?, ?it/s]\r",
      " 12%|█▎        | 2/16 [00:00<00:01, 12.86it/s]\r",
      " 25%|██▌       | 4/16 [00:00<00:00, 13.46it/s]\r",
      " 38%|███▊      | 6/16 [00:00<00:00, 14.36it/s]\r",
      " 50%|█████     | 8/16 [00:00<00:00, 14.92it/s]\r",
      " 62%|██████▎   | 10/16 [00:00<00:00, 15.68it/s]\r",
      " 75%|███████▌  | 12/16 [00:00<00:00, 16.36it/s]\r",
      " 88%|████████▊ | 14/16 [00:00<00:00, 16.77it/s]\r",
      "100%|██████████| 16/16 [00:00<00:00, 17.01it/s]\n",
      "\r",
      "  0%|          | 0/78 [00:00<?, ?it/s]\r",
      "  3%|▎         | 2/78 [00:00<00:04, 16.67it/s]\r",
      "  5%|▌         | 4/78 [00:00<00:04, 17.12it/s]\r",
      "  8%|▊         | 6/78 [00:00<00:04, 16.98it/s]\r",
      " 10%|█         | 8/78 [00:00<00:04, 16.93it/s]\r",
      " 13%|█▎        | 10/78 [00:00<00:04, 16.86it/s]\r",
      " 15%|█▌        | 12/78 [00:00<00:03, 16.77it/s]\r",
      " 18%|█▊        | 14/78 [00:00<00:03, 17.25it/s]\r",
      " 21%|██        | 16/78 [00:00<00:03, 16.96it/s]\r",
      " 23%|██▎       | 18/78 [00:01<00:03, 17.21it/s]\r",
      " 26%|██▌       | 20/78 [00:01<00:03, 17.76it/s]\r",
      " 28%|██▊       | 22/78 [00:01<00:03, 17.70it/s]\r",
      " 31%|███       | 24/78 [00:01<00:02, 18.09it/s]\r",
      " 33%|███▎      | 26/78 [00:01<00:02, 18.00it/s]\r",
      " 36%|███▌      | 28/78 [00:01<00:02, 18.12it/s]\r",
      " 38%|███▊      | 30/78 [00:01<00:02, 18.00it/s]\r",
      " 41%|████      | 32/78 [00:01<00:02, 17.76it/s]\r",
      " 44%|████▎     | 34/78 [00:01<00:02, 16.87it/s]\r",
      " 46%|████▌     | 36/78 [00:02<00:02, 16.83it/s]\r",
      " 49%|████▊     | 38/78 [00:02<00:02, 16.53it/s]\r",
      " 51%|█████▏    | 40/78 [00:02<00:02, 16.56it/s]\r",
      " 54%|█████▍    | 42/78 [00:02<00:02, 16.72it/s]\r",
      " 56%|█████▋    | 44/78 [00:02<00:02, 16.95it/s]\r",
      " 59%|█████▉    | 46/78 [00:02<00:01, 16.50it/s]\r",
      " 62%|██████▏   | 48/78 [00:02<00:01, 16.48it/s]\r",
      " 64%|██████▍   | 50/78 [00:02<00:01, 16.82it/s]\r",
      " 67%|██████▋   | 52/78 [00:03<00:01, 17.22it/s]\r",
      " 69%|██████▉   | 54/78 [00:03<00:01, 17.65it/s]\r",
      " 72%|███████▏  | 56/78 [00:03<00:01, 17.63it/s]\r",
      " 74%|███████▍  | 58/78 [00:03<00:01, 17.46it/s]\r",
      " 77%|███████▋  | 60/78 [00:03<00:01, 17.41it/s]\r",
      " 79%|███████▉  | 62/78 [00:03<00:00, 17.68it/s]\r",
      " 82%|████████▏ | 64/78 [00:03<00:00, 17.69it/s]\r",
      " 85%|████████▍ | 66/78 [00:03<00:00, 17.76it/s]\r",
      " 87%|████████▋ | 68/78 [00:03<00:00, 18.02it/s]\r",
      " 90%|████████▉ | 70/78 [00:04<00:00, 17.99it/s]\r",
      " 92%|█████████▏| 72/78 [00:04<00:00, 17.50it/s]\r",
      " 95%|█████████▍| 74/78 [00:04<00:00, 17.23it/s]\r",
      " 97%|█████████▋| 76/78 [00:04<00:00, 17.18it/s]\r",
      "100%|██████████| 78/78 [00:04<00:00, 17.05it/s]\n"
     ]
    }
   ],
   "source": [
    "%%bash\n",
    "query-bids -proj Q7 DSI -output ../data/DSI_query.csv"
   ]
  },
  {
   "cell_type": "markdown",
   "metadata": {
    "slideshow": {
     "slide_type": "slide"
    }
   },
   "source": [
    "The result looks like this:"
   ]
  },
  {
   "cell_type": "code",
   "execution_count": 2,
   "metadata": {
    "scrolled": true,
    "slideshow": {
     "slide_type": "fragment"
    }
   },
   "outputs": [
    {
     "data": {
      "text/html": [
       "<div>\n",
       "<style scoped>\n",
       "    .dataframe tbody tr th:only-of-type {\n",
       "        vertical-align: middle;\n",
       "    }\n",
       "\n",
       "    .dataframe tbody tr th {\n",
       "        vertical-align: top;\n",
       "    }\n",
       "\n",
       "    .dataframe thead th {\n",
       "        text-align: right;\n",
       "    }\n",
       "</style>\n",
       "<table border=\"1\" class=\"dataframe\">\n",
       "  <thead>\n",
       "    <tr style=\"text-align: right;\">\n",
       "      <th></th>\n",
       "      <th>acquisition.id</th>\n",
       "      <th>acquisition.label</th>\n",
       "      <th>acquisition.timestamp</th>\n",
       "      <th>acquisition.timezone</th>\n",
       "      <th>project.id</th>\n",
       "      <th>project.label</th>\n",
       "      <th>session.id</th>\n",
       "      <th>session.label</th>\n",
       "      <th>subject.id</th>\n",
       "      <th>subject.label</th>\n",
       "      <th>classification_Intent</th>\n",
       "      <th>classification_Measurement</th>\n",
       "      <th>info_RepetitionTime</th>\n",
       "      <th>info_SequenceName</th>\n",
       "      <th>info_SeriesDescription</th>\n",
       "      <th>modality</th>\n",
       "      <th>type</th>\n",
       "    </tr>\n",
       "  </thead>\n",
       "  <tbody>\n",
       "    <tr>\n",
       "      <th>147</th>\n",
       "      <td>5c8018fbdf93e30028fce910</td>\n",
       "      <td>restingBOLD_mb6_1200</td>\n",
       "      <td>2018-04-21 22:50:27</td>\n",
       "      <td>America/New_York</td>\n",
       "      <td>5c7d7616df93e30028fc5227</td>\n",
       "      <td>Q7 DSI</td>\n",
       "      <td>5c8018f5df93e3002afd0fa1</td>\n",
       "      <td>2018-04-21 17:41:48</td>\n",
       "      <td>5c8018f2df93e3002efec8db</td>\n",
       "      <td>18.04.21-17:11:15-DST-1.3.12.2.1107.5.2.43.66044</td>\n",
       "      <td>Functional</td>\n",
       "      <td>T2*</td>\n",
       "      <td>500.00</td>\n",
       "      <td>epfid2d1_64</td>\n",
       "      <td>restingBOLD_mb6_1200</td>\n",
       "      <td>MR</td>\n",
       "      <td>dicom</td>\n",
       "    </tr>\n",
       "    <tr>\n",
       "      <th>104</th>\n",
       "      <td>5c8018fadf93e3002efec8f9</td>\n",
       "      <td>restingBOLD_mb6_1200</td>\n",
       "      <td>2018-04-01 22:15:37</td>\n",
       "      <td>America/New_York</td>\n",
       "      <td>5c7d7616df93e30028fc5227</td>\n",
       "      <td>Q7 DSI</td>\n",
       "      <td>5c8018f4df93e3002cfdfe4d</td>\n",
       "      <td>2018-04-01 17:02:19</td>\n",
       "      <td>5c8018f2df93e3002cfdfe46</td>\n",
       "      <td>18.04.01-17:01:30-DST-1.3.12.2.1107.5.2.43.66044</td>\n",
       "      <td>Functional</td>\n",
       "      <td>T2*</td>\n",
       "      <td>500.00</td>\n",
       "      <td>epfid2d1_64</td>\n",
       "      <td>restingBOLD_mb6_1200</td>\n",
       "      <td>MR</td>\n",
       "      <td>dicom</td>\n",
       "    </tr>\n",
       "    <tr>\n",
       "      <th>85</th>\n",
       "      <td>5c8018f9df93e3002bfcfb42</td>\n",
       "      <td>Localizer</td>\n",
       "      <td>2018-03-31 21:47:43</td>\n",
       "      <td>America/New_York</td>\n",
       "      <td>5c7d7616df93e30028fc5227</td>\n",
       "      <td>Q7 DSI</td>\n",
       "      <td>5c8018f4df93e30028fce903</td>\n",
       "      <td>2018-03-31 17:36:38</td>\n",
       "      <td>5c8018f2df93e30026fca6ba</td>\n",
       "      <td>18.03.31-17:35:47-DST-1.3.12.2.1107.5.2.43.66044</td>\n",
       "      <td>Localizer</td>\n",
       "      <td>T2</td>\n",
       "      <td>0.04</td>\n",
       "      <td>_fl2d1</td>\n",
       "      <td>Localizer</td>\n",
       "      <td>MR</td>\n",
       "      <td>nifti</td>\n",
       "    </tr>\n",
       "    <tr>\n",
       "      <th>2</th>\n",
       "      <td>5c8011f0df93e3002efeb11e</td>\n",
       "      <td>Localizer</td>\n",
       "      <td>2018-02-10 19:36:23</td>\n",
       "      <td>America/New_York</td>\n",
       "      <td>5c7d7616df93e30028fc5227</td>\n",
       "      <td>Q7 DSI</td>\n",
       "      <td>5c8011f0df93e3002efeb11c</td>\n",
       "      <td>2018-02-10 14:21:55</td>\n",
       "      <td>5c8011f0df93e3002dfd44b8</td>\n",
       "      <td>18.02.10-13:38:26-STD-1.3.12.2.1107.5.2.43.66044</td>\n",
       "      <td>Localizer</td>\n",
       "      <td>T2</td>\n",
       "      <td>0.04</td>\n",
       "      <td>_fl2d1</td>\n",
       "      <td>Localizer</td>\n",
       "      <td>MR</td>\n",
       "      <td>nifti</td>\n",
       "    </tr>\n",
       "    <tr>\n",
       "      <th>75</th>\n",
       "      <td>5c8018f9df93e3002afd0fa6</td>\n",
       "      <td>Localizer</td>\n",
       "      <td>2018-03-18 21:26:47</td>\n",
       "      <td>America/New_York</td>\n",
       "      <td>5c7d7616df93e30028fc5227</td>\n",
       "      <td>Q7 DSI</td>\n",
       "      <td>5c8018f4df93e3002efec8e0</td>\n",
       "      <td>2018-03-18 17:26:00</td>\n",
       "      <td>5c8018f2df93e3002efec8d8</td>\n",
       "      <td>18.03.18-17:21:37-DST-1.3.12.2.1107.5.2.43.66044</td>\n",
       "      <td>Localizer</td>\n",
       "      <td>T2</td>\n",
       "      <td>0.04</td>\n",
       "      <td>_fl2d1</td>\n",
       "      <td>Localizer</td>\n",
       "      <td>MR</td>\n",
       "      <td>nifti</td>\n",
       "    </tr>\n",
       "    <tr>\n",
       "      <th>88</th>\n",
       "      <td>5c8018f9df93e3002efec8f3</td>\n",
       "      <td>t1w_mprage_0.9mm</td>\n",
       "      <td>2018-03-31 20:06:21</td>\n",
       "      <td>America/New_York</td>\n",
       "      <td>5c7d7616df93e30028fc5227</td>\n",
       "      <td>Q7 DSI</td>\n",
       "      <td>5c8018f4df93e3002efec8e4</td>\n",
       "      <td>2018-03-31 15:58:17</td>\n",
       "      <td>5c8018f2df93e3002afd0f9d</td>\n",
       "      <td>18.03.31-15:57:35-DST-1.3.12.2.1107.5.2.43.66044</td>\n",
       "      <td>Structural</td>\n",
       "      <td>T1</td>\n",
       "      <td>2500.00</td>\n",
       "      <td>*tfl3d1_16ns</td>\n",
       "      <td>t1w_mprage_0.9mm</td>\n",
       "      <td>MR</td>\n",
       "      <td>dicom</td>\n",
       "    </tr>\n",
       "    <tr>\n",
       "      <th>23</th>\n",
       "      <td>5c8018f7df93e3002cfdfe54</td>\n",
       "      <td>Localizer</td>\n",
       "      <td>2018-02-11 21:05:48</td>\n",
       "      <td>America/New_York</td>\n",
       "      <td>5c7d7616df93e30028fc5227</td>\n",
       "      <td>Q7 DSI</td>\n",
       "      <td>5c8018f3df93e3002dfd4cda</td>\n",
       "      <td>2018-02-11 16:00:18</td>\n",
       "      <td>5c8018f1df93e30028fce900</td>\n",
       "      <td>18.02.11-15:58:41-STD-1.3.12.2.1107.5.2.43.66044</td>\n",
       "      <td>Localizer</td>\n",
       "      <td>T2</td>\n",
       "      <td>0.04</td>\n",
       "      <td>_fl2d1</td>\n",
       "      <td>Localizer</td>\n",
       "      <td>MR</td>\n",
       "      <td>nifti</td>\n",
       "    </tr>\n",
       "  </tbody>\n",
       "</table>\n",
       "</div>"
      ],
      "text/plain": [
       "               acquisition.id     acquisition.label acquisition.timestamp  \\\n",
       "147  5c8018fbdf93e30028fce910  restingBOLD_mb6_1200   2018-04-21 22:50:27   \n",
       "104  5c8018fadf93e3002efec8f9  restingBOLD_mb6_1200   2018-04-01 22:15:37   \n",
       "85   5c8018f9df93e3002bfcfb42             Localizer   2018-03-31 21:47:43   \n",
       "2    5c8011f0df93e3002efeb11e             Localizer   2018-02-10 19:36:23   \n",
       "75   5c8018f9df93e3002afd0fa6             Localizer   2018-03-18 21:26:47   \n",
       "88   5c8018f9df93e3002efec8f3      t1w_mprage_0.9mm   2018-03-31 20:06:21   \n",
       "23   5c8018f7df93e3002cfdfe54             Localizer   2018-02-11 21:05:48   \n",
       "\n",
       "    acquisition.timezone                project.id project.label  \\\n",
       "147     America/New_York  5c7d7616df93e30028fc5227        Q7 DSI   \n",
       "104     America/New_York  5c7d7616df93e30028fc5227        Q7 DSI   \n",
       "85      America/New_York  5c7d7616df93e30028fc5227        Q7 DSI   \n",
       "2       America/New_York  5c7d7616df93e30028fc5227        Q7 DSI   \n",
       "75      America/New_York  5c7d7616df93e30028fc5227        Q7 DSI   \n",
       "88      America/New_York  5c7d7616df93e30028fc5227        Q7 DSI   \n",
       "23      America/New_York  5c7d7616df93e30028fc5227        Q7 DSI   \n",
       "\n",
       "                   session.id        session.label                subject.id  \\\n",
       "147  5c8018f5df93e3002afd0fa1  2018-04-21 17:41:48  5c8018f2df93e3002efec8db   \n",
       "104  5c8018f4df93e3002cfdfe4d  2018-04-01 17:02:19  5c8018f2df93e3002cfdfe46   \n",
       "85   5c8018f4df93e30028fce903  2018-03-31 17:36:38  5c8018f2df93e30026fca6ba   \n",
       "2    5c8011f0df93e3002efeb11c  2018-02-10 14:21:55  5c8011f0df93e3002dfd44b8   \n",
       "75   5c8018f4df93e3002efec8e0  2018-03-18 17:26:00  5c8018f2df93e3002efec8d8   \n",
       "88   5c8018f4df93e3002efec8e4  2018-03-31 15:58:17  5c8018f2df93e3002afd0f9d   \n",
       "23   5c8018f3df93e3002dfd4cda  2018-02-11 16:00:18  5c8018f1df93e30028fce900   \n",
       "\n",
       "                                        subject.label classification_Intent  \\\n",
       "147  18.04.21-17:11:15-DST-1.3.12.2.1107.5.2.43.66044            Functional   \n",
       "104  18.04.01-17:01:30-DST-1.3.12.2.1107.5.2.43.66044            Functional   \n",
       "85   18.03.31-17:35:47-DST-1.3.12.2.1107.5.2.43.66044             Localizer   \n",
       "2    18.02.10-13:38:26-STD-1.3.12.2.1107.5.2.43.66044             Localizer   \n",
       "75   18.03.18-17:21:37-DST-1.3.12.2.1107.5.2.43.66044             Localizer   \n",
       "88   18.03.31-15:57:35-DST-1.3.12.2.1107.5.2.43.66044            Structural   \n",
       "23   18.02.11-15:58:41-STD-1.3.12.2.1107.5.2.43.66044             Localizer   \n",
       "\n",
       "    classification_Measurement  info_RepetitionTime info_SequenceName  \\\n",
       "147                        T2*               500.00       epfid2d1_64   \n",
       "104                        T2*               500.00       epfid2d1_64   \n",
       "85                          T2                 0.04            _fl2d1   \n",
       "2                           T2                 0.04            _fl2d1   \n",
       "75                          T2                 0.04            _fl2d1   \n",
       "88                          T1              2500.00      *tfl3d1_16ns   \n",
       "23                          T2                 0.04            _fl2d1   \n",
       "\n",
       "    info_SeriesDescription modality   type  \n",
       "147   restingBOLD_mb6_1200       MR  dicom  \n",
       "104   restingBOLD_mb6_1200       MR  dicom  \n",
       "85               Localizer       MR  nifti  \n",
       "2                Localizer       MR  nifti  \n",
       "75               Localizer       MR  nifti  \n",
       "88        t1w_mprage_0.9mm       MR  dicom  \n",
       "23               Localizer       MR  nifti  "
      ]
     },
     "execution_count": 2,
     "metadata": {},
     "output_type": "execute_result"
    }
   ],
   "source": [
    "# The Query Result\n",
    "\n",
    "import pandas as pd\n",
    "\n",
    "q7 = pd.read_csv(\"../data/DSI_query.csv\")\n",
    "q7.sample(7)"
   ]
  },
  {
   "cell_type": "markdown",
   "metadata": {
    "slideshow": {
     "slide_type": "fragment"
    }
   },
   "source": [
    "** Note that due to how Flywheel organises its data (thanks to MongoDB), some metadata is nested within other fields. These nested fields are indicated by underscores `_`"
   ]
  },
  {
   "cell_type": "markdown",
   "metadata": {
    "slideshow": {
     "slide_type": "slide"
    }
   },
   "source": [
    "# Step 2: Group your file as necessary\n",
    "\n",
    "* Line by line editing is cumbersome\n",
    "* If some systematic issue is known (e.g. a set of acquisition files are erroneous), group the data to edit en masse\n",
    "* e.g. group the data by classification as we know the MR classifier failed on some of these"
   ]
  },
  {
   "cell_type": "code",
   "execution_count": 38,
   "metadata": {
    "slideshow": {
     "slide_type": "fragment"
    }
   },
   "outputs": [
    {
     "name": "stdout",
     "output_type": "stream",
     "text": [
      "Done\n"
     ]
    }
   ],
   "source": [
    "%%bash\n",
    "\n",
    "group-query -input ../data/DSI_query.csv -output ../data/DSI_query_grouped.csv -groups classification_Intent classification_Measurement"
   ]
  },
  {
   "cell_type": "markdown",
   "metadata": {
    "slideshow": {
     "slide_type": "slide"
    }
   },
   "source": [
    "Here, we see how the original file has been grouped\n",
    "\n",
    "* Each unique group of column values has one line\n",
    "    * Beware because these are now no longer unique rows!\n",
    "* You can see your groupings in the two added columns `group_id` and `groups`"
   ]
  },
  {
   "cell_type": "code",
   "execution_count": 39,
   "metadata": {
    "slideshow": {
     "slide_type": "fragment"
    }
   },
   "outputs": [
    {
     "data": {
      "text/html": [
       "<div>\n",
       "<style scoped>\n",
       "    .dataframe tbody tr th:only-of-type {\n",
       "        vertical-align: middle;\n",
       "    }\n",
       "\n",
       "    .dataframe tbody tr th {\n",
       "        vertical-align: top;\n",
       "    }\n",
       "\n",
       "    .dataframe thead th {\n",
       "        text-align: right;\n",
       "    }\n",
       "</style>\n",
       "<table border=\"1\" class=\"dataframe\">\n",
       "  <thead>\n",
       "    <tr style=\"text-align: right;\">\n",
       "      <th></th>\n",
       "      <th>acquisition.id</th>\n",
       "      <th>acquisition.label</th>\n",
       "      <th>acquisition.timestamp</th>\n",
       "      <th>acquisition.timezone</th>\n",
       "      <th>project.id</th>\n",
       "      <th>project.label</th>\n",
       "      <th>session.id</th>\n",
       "      <th>session.label</th>\n",
       "      <th>subject.id</th>\n",
       "      <th>subject.label</th>\n",
       "      <th>classification_Intent</th>\n",
       "      <th>classification_Measurement</th>\n",
       "      <th>info_RepetitionTime</th>\n",
       "      <th>info_SequenceName</th>\n",
       "      <th>info_SeriesDescription</th>\n",
       "      <th>modality</th>\n",
       "      <th>type</th>\n",
       "      <th>group_id</th>\n",
       "      <th>groups</th>\n",
       "    </tr>\n",
       "  </thead>\n",
       "  <tbody>\n",
       "    <tr>\n",
       "      <th>0</th>\n",
       "      <td>5c8011f0df93e3002efeb11e</td>\n",
       "      <td>Localizer</td>\n",
       "      <td>2018-02-10 19:36:23</td>\n",
       "      <td>America/New_York</td>\n",
       "      <td>5c7d7616df93e30028fc5227</td>\n",
       "      <td>Q7 DSI</td>\n",
       "      <td>5c8011f0df93e3002efeb11c</td>\n",
       "      <td>2018-02-10 14:21:55</td>\n",
       "      <td>5c8011f0df93e3002dfd44b8</td>\n",
       "      <td>18.02.10-13:38:26-STD-1.3.12.2.1107.5.2.43.66044</td>\n",
       "      <td>Localizer</td>\n",
       "      <td>T2</td>\n",
       "      <td>0.04</td>\n",
       "      <td>_fl2d1</td>\n",
       "      <td>Localizer</td>\n",
       "      <td>MR</td>\n",
       "      <td>nifti</td>\n",
       "      <td>2</td>\n",
       "      <td>classification_Intent, classification_Measurement</td>\n",
       "    </tr>\n",
       "    <tr>\n",
       "      <th>1</th>\n",
       "      <td>5c8011f0df93e3002efeb11f</td>\n",
       "      <td>t1w_mprage_0.9mm</td>\n",
       "      <td>2018-02-10 19:44:45</td>\n",
       "      <td>America/New_York</td>\n",
       "      <td>5c7d7616df93e30028fc5227</td>\n",
       "      <td>Q7 DSI</td>\n",
       "      <td>5c8011f0df93e3002efeb11c</td>\n",
       "      <td>2018-02-10 14:21:55</td>\n",
       "      <td>5c8011f0df93e3002dfd44b8</td>\n",
       "      <td>18.02.10-13:38:26-STD-1.3.12.2.1107.5.2.43.66044</td>\n",
       "      <td>Structural</td>\n",
       "      <td>T1</td>\n",
       "      <td>2.50</td>\n",
       "      <td>_tfl3d1_16ns</td>\n",
       "      <td>t1w_mprage_0.9mm</td>\n",
       "      <td>MR</td>\n",
       "      <td>nifti</td>\n",
       "      <td>3</td>\n",
       "      <td>classification_Intent, classification_Measurement</td>\n",
       "    </tr>\n",
       "    <tr>\n",
       "      <th>2</th>\n",
       "      <td>5c8011f0df93e3002efeb120</td>\n",
       "      <td>t2w_space_0.9mm</td>\n",
       "      <td>2018-02-10 19:50:24</td>\n",
       "      <td>America/New_York</td>\n",
       "      <td>5c7d7616df93e30028fc5227</td>\n",
       "      <td>Q7 DSI</td>\n",
       "      <td>5c8011f0df93e3002efeb11c</td>\n",
       "      <td>2018-02-10 14:21:55</td>\n",
       "      <td>5c8011f0df93e3002dfd44b8</td>\n",
       "      <td>18.02.10-13:38:26-STD-1.3.12.2.1107.5.2.43.66044</td>\n",
       "      <td>Structural</td>\n",
       "      <td>T2</td>\n",
       "      <td>3.20</td>\n",
       "      <td>_spc_314ns</td>\n",
       "      <td>t2w_space_0.9mm</td>\n",
       "      <td>MR</td>\n",
       "      <td>nifti</td>\n",
       "      <td>4</td>\n",
       "      <td>classification_Intent, classification_Measurement</td>\n",
       "    </tr>\n",
       "    <tr>\n",
       "      <th>3</th>\n",
       "      <td>5c8011f0df93e3002bfcf5ee</td>\n",
       "      <td>restingBOLD_mb6_1200</td>\n",
       "      <td>2018-02-10 20:45:51</td>\n",
       "      <td>America/New_York</td>\n",
       "      <td>5c7d7616df93e30028fc5227</td>\n",
       "      <td>Q7 DSI</td>\n",
       "      <td>5c8011f0df93e3002efeb11c</td>\n",
       "      <td>2018-02-10 14:21:55</td>\n",
       "      <td>5c8011f0df93e3002dfd44b8</td>\n",
       "      <td>18.02.10-13:38:26-STD-1.3.12.2.1107.5.2.43.66044</td>\n",
       "      <td>Functional</td>\n",
       "      <td>T2*</td>\n",
       "      <td>0.50</td>\n",
       "      <td>epfid2d1_64</td>\n",
       "      <td>restingBOLD_mb6_1200</td>\n",
       "      <td>MR</td>\n",
       "      <td>nifti</td>\n",
       "      <td>1</td>\n",
       "      <td>classification_Intent, classification_Measurement</td>\n",
       "    </tr>\n",
       "    <tr>\n",
       "      <th>4</th>\n",
       "      <td>5c8018f7df93e30026fca6bd</td>\n",
       "      <td>DSI_730dir_b5000_mb3</td>\n",
       "      <td>2018-02-10 21:36:10</td>\n",
       "      <td>America/New_York</td>\n",
       "      <td>5c7d7616df93e30028fc5227</td>\n",
       "      <td>Q7 DSI</td>\n",
       "      <td>5c8018f2df93e3002dfd4cd9</td>\n",
       "      <td>2018-02-10 16:14:31</td>\n",
       "      <td>5c8018f1df93e30029fce523</td>\n",
       "      <td>18.02.10-16:13:38-STD-1.3.12.2.1107.5.2.43.66044</td>\n",
       "      <td>NaN</td>\n",
       "      <td>Diffusion</td>\n",
       "      <td>4300.00</td>\n",
       "      <td>ep_b3735#487</td>\n",
       "      <td>DSI_730dir_b5000_mb3</td>\n",
       "      <td>MR</td>\n",
       "      <td>dicom</td>\n",
       "      <td>0</td>\n",
       "      <td>classification_Intent, classification_Measurement</td>\n",
       "    </tr>\n",
       "  </tbody>\n",
       "</table>\n",
       "</div>"
      ],
      "text/plain": [
       "             acquisition.id     acquisition.label acquisition.timestamp  \\\n",
       "0  5c8011f0df93e3002efeb11e             Localizer   2018-02-10 19:36:23   \n",
       "1  5c8011f0df93e3002efeb11f      t1w_mprage_0.9mm   2018-02-10 19:44:45   \n",
       "2  5c8011f0df93e3002efeb120       t2w_space_0.9mm   2018-02-10 19:50:24   \n",
       "3  5c8011f0df93e3002bfcf5ee  restingBOLD_mb6_1200   2018-02-10 20:45:51   \n",
       "4  5c8018f7df93e30026fca6bd  DSI_730dir_b5000_mb3   2018-02-10 21:36:10   \n",
       "\n",
       "  acquisition.timezone                project.id project.label  \\\n",
       "0     America/New_York  5c7d7616df93e30028fc5227        Q7 DSI   \n",
       "1     America/New_York  5c7d7616df93e30028fc5227        Q7 DSI   \n",
       "2     America/New_York  5c7d7616df93e30028fc5227        Q7 DSI   \n",
       "3     America/New_York  5c7d7616df93e30028fc5227        Q7 DSI   \n",
       "4     America/New_York  5c7d7616df93e30028fc5227        Q7 DSI   \n",
       "\n",
       "                 session.id        session.label                subject.id  \\\n",
       "0  5c8011f0df93e3002efeb11c  2018-02-10 14:21:55  5c8011f0df93e3002dfd44b8   \n",
       "1  5c8011f0df93e3002efeb11c  2018-02-10 14:21:55  5c8011f0df93e3002dfd44b8   \n",
       "2  5c8011f0df93e3002efeb11c  2018-02-10 14:21:55  5c8011f0df93e3002dfd44b8   \n",
       "3  5c8011f0df93e3002efeb11c  2018-02-10 14:21:55  5c8011f0df93e3002dfd44b8   \n",
       "4  5c8018f2df93e3002dfd4cd9  2018-02-10 16:14:31  5c8018f1df93e30029fce523   \n",
       "\n",
       "                                      subject.label classification_Intent  \\\n",
       "0  18.02.10-13:38:26-STD-1.3.12.2.1107.5.2.43.66044             Localizer   \n",
       "1  18.02.10-13:38:26-STD-1.3.12.2.1107.5.2.43.66044            Structural   \n",
       "2  18.02.10-13:38:26-STD-1.3.12.2.1107.5.2.43.66044            Structural   \n",
       "3  18.02.10-13:38:26-STD-1.3.12.2.1107.5.2.43.66044            Functional   \n",
       "4  18.02.10-16:13:38-STD-1.3.12.2.1107.5.2.43.66044                   NaN   \n",
       "\n",
       "  classification_Measurement  info_RepetitionTime info_SequenceName  \\\n",
       "0                         T2                 0.04            _fl2d1   \n",
       "1                         T1                 2.50      _tfl3d1_16ns   \n",
       "2                         T2                 3.20        _spc_314ns   \n",
       "3                        T2*                 0.50       epfid2d1_64   \n",
       "4                  Diffusion              4300.00      ep_b3735#487   \n",
       "\n",
       "  info_SeriesDescription modality   type  group_id  \\\n",
       "0              Localizer       MR  nifti         2   \n",
       "1       t1w_mprage_0.9mm       MR  nifti         3   \n",
       "2        t2w_space_0.9mm       MR  nifti         4   \n",
       "3   restingBOLD_mb6_1200       MR  nifti         1   \n",
       "4   DSI_730dir_b5000_mb3       MR  dicom         0   \n",
       "\n",
       "                                              groups  \n",
       "0  classification_Intent, classification_Measurement  \n",
       "1  classification_Intent, classification_Measurement  \n",
       "2  classification_Intent, classification_Measurement  \n",
       "3  classification_Intent, classification_Measurement  \n",
       "4  classification_Intent, classification_Measurement  "
      ]
     },
     "execution_count": 39,
     "metadata": {},
     "output_type": "execute_result"
    }
   ],
   "source": [
    "q7_grouped = pd.read_csv(\"../data/DSI_query_grouped.csv\")\n",
    "q7_grouped"
   ]
  },
  {
   "cell_type": "markdown",
   "metadata": {
    "slideshow": {
     "slide_type": "slide"
    }
   },
   "source": [
    "# Step 3: Edit your data\n",
    "\n",
    "* We want to add classification to the NaN rows\n",
    "* Replace the value for `classification_Measurement` with `Diffusion`\n",
    "* Replace the value for `classification_Intent` with `Structural`\n",
    "* You could do this in a spreadsheet editor like MS Excel, but don't forget to save the modified file separately; you need the original grouped file to map the changes back"
   ]
  },
  {
   "cell_type": "code",
   "execution_count": 41,
   "metadata": {
    "slideshow": {
     "slide_type": "fragment"
    }
   },
   "outputs": [],
   "source": [
    "# fancy python to change the value; you could do this in excel\n",
    "\n",
    "q7_grouped.loc[q7_grouped['classification_Measurement'].isnull(), 'classification_Measurement'] = \"Diffusion\"\n",
    "q7_grouped.loc[q7_grouped['classification_Intent'].isnull(), 'classification_Intent'] = \"Structural\"\n",
    "q7_grouped.to_csv(\"../data/DSI_query_grouped_modified.csv\", index=False)"
   ]
  },
  {
   "cell_type": "markdown",
   "metadata": {
    "slideshow": {
     "slide_type": "slide"
    }
   },
   "source": [
    "# Step 4: Ungroup to map your changes back\n",
    "\n",
    "* Ensure the changes applied to the groups get mapped to every row of the group\n",
    "* You should check this before uploading"
   ]
  },
  {
   "cell_type": "code",
   "execution_count": 42,
   "metadata": {
    "slideshow": {
     "slide_type": "fragment"
    }
   },
   "outputs": [
    {
     "name": "stdout",
     "output_type": "stream",
     "text": [
      "Applying the changes to the full dataset...\n",
      "Done\n"
     ]
    }
   ],
   "source": [
    "%%bash\n",
    "\n",
    "ungroup-query -grouped ../data/DSI_query_grouped.csv -mod ../data/DSI_query_grouped_modified.csv -orig ../data/DSI_query.csv -output ../data/final_DSI.csv"
   ]
  },
  {
   "cell_type": "markdown",
   "metadata": {
    "slideshow": {
     "slide_type": "slide"
    }
   },
   "source": [
    "The process drops a file called `provenance.txt`, which shows you the changes that were accepted between the original and modified files."
   ]
  },
  {
   "cell_type": "code",
   "execution_count": 43,
   "metadata": {
    "slideshow": {
     "slide_type": "fragment"
    }
   },
   "outputs": [
    {
     "name": "stdout",
     "output_type": "stream",
     "text": [
      "original,modified,row,column\n",
      "\n",
      "Structural,NA,4,classification_Intent\n",
      "\n"
     ]
    }
   ],
   "source": [
    "with open(\"provenance_2019-03-11_13:02:13.txt\") as f:\n",
    "    for line in f: \n",
    "        print(line)"
   ]
  },
  {
   "cell_type": "markdown",
   "metadata": {
    "slideshow": {
     "slide_type": "slide"
    }
   },
   "source": [
    "# Step 5: Upload\n",
    "\n",
    "* This step will validate whether the changes you made are valid (e.g. strings vs. numbers, drop-down columns)\n",
    "* Will report if there are invalid changes\n",
    "* Will then update MR classifier info or BIDS info as you've changed"
   ]
  },
  {
   "cell_type": "code",
   "execution_count": 45,
   "metadata": {
    "scrolled": false,
    "slideshow": {
     "slide_type": "fragment"
    }
   },
   "outputs": [
    {
     "name": "stdout",
     "output_type": "stream",
     "text": [
      "Changes appear to be valid! Uploading...\n",
      "Done!\n"
     ]
    },
    {
     "name": "stderr",
     "output_type": "stream",
     "text": [
      "\r",
      "  0%|          | 0/30 [00:00<?, ?it/s]\r",
      "  3%|▎         | 1/30 [00:00<00:06,  4.33it/s]\r",
      "  7%|▋         | 2/30 [00:00<00:05,  5.08it/s]\r",
      " 10%|█         | 3/30 [00:00<00:04,  5.72it/s]\r",
      " 13%|█▎        | 4/30 [00:00<00:04,  6.30it/s]\r",
      " 17%|█▋        | 5/30 [00:00<00:03,  6.92it/s]\r",
      " 20%|██        | 6/30 [00:00<00:03,  7.52it/s]\r",
      " 23%|██▎       | 7/30 [00:00<00:02,  7.98it/s]\r",
      " 27%|██▋       | 8/30 [00:01<00:02,  8.35it/s]\r",
      " 30%|███       | 9/30 [00:01<00:02,  8.61it/s]\r",
      " 33%|███▎      | 10/30 [00:01<00:02,  8.76it/s]\r",
      " 37%|███▋      | 11/30 [00:01<00:02,  8.89it/s]\r",
      " 40%|████      | 12/30 [00:01<00:02,  8.86it/s]\r",
      " 43%|████▎     | 13/30 [00:01<00:01,  8.88it/s]\r",
      " 47%|████▋     | 14/30 [00:01<00:01,  8.90it/s]\r",
      " 50%|█████     | 15/30 [00:01<00:01,  8.90it/s]\r",
      " 53%|█████▎    | 16/30 [00:02<00:03,  3.54it/s]\r",
      " 57%|█████▋    | 17/30 [00:02<00:02,  4.34it/s]\r",
      " 60%|██████    | 18/30 [00:02<00:02,  5.15it/s]\r",
      " 63%|██████▎   | 19/30 [00:02<00:01,  5.87it/s]\r",
      " 67%|██████▋   | 20/30 [00:02<00:01,  5.94it/s]\r",
      " 70%|███████   | 21/30 [00:03<00:01,  6.48it/s]\r",
      " 73%|███████▎  | 22/30 [00:03<00:01,  7.08it/s]\r",
      " 77%|███████▋  | 23/30 [00:03<00:00,  7.58it/s]\r",
      " 80%|████████  | 24/30 [00:03<00:00,  8.03it/s]\r",
      " 83%|████████▎ | 25/30 [00:03<00:00,  8.21it/s]\r",
      " 87%|████████▋ | 26/30 [00:03<00:00,  8.43it/s]\r",
      " 90%|█████████ | 27/30 [00:03<00:00,  8.11it/s]\r",
      " 93%|█████████▎| 28/30 [00:03<00:00,  7.89it/s]\r",
      " 97%|█████████▋| 29/30 [00:04<00:00,  7.82it/s]\r",
      "100%|██████████| 30/30 [00:04<00:00,  7.89it/s]\n"
     ]
    }
   ],
   "source": [
    "%%bash\n",
    "\n",
    "upload-bids -orig ../data/dsi_out.csv -mod ../data/final_dsi.csv"
   ]
  },
  {
   "cell_type": "markdown",
   "metadata": {
    "slideshow": {
     "slide_type": "slide"
    }
   },
   "source": [
    "# Conclusion\n",
    "\n",
    "Use the `flywheel-bids-tools` to edit your flywheel data. You can do this with varying levels of granularity\n",
    "* Using the SDK alone\n",
    "* Using the python functions in flywheel-bids-tools\n",
    "* Using the CLI and an editor\n",
    "\n",
    "There are more functions planned for the toolbox:\n",
    "* Downloading a BIDS structured directory of a project\n",
    "* Automatically adding BIDS if the gear does not run\n",
    "* Automatically renaming misnamed BIDS files\n",
    "* A GUI for grouped editing"
   ]
  },
  {
   "cell_type": "markdown",
   "metadata": {
    "slideshow": {
     "slide_type": "slide"
    }
   },
   "source": [
    "# <center>Thank you!</center>"
   ]
  }
 ],
 "metadata": {
  "celltoolbar": "Slideshow",
  "kernelspec": {
   "display_name": "Python [conda env:miniconda3]",
   "language": "python",
   "name": "conda-env-miniconda3-py"
  },
  "language_info": {
   "codemirror_mode": {
    "name": "ipython",
    "version": 3
   },
   "file_extension": ".py",
   "mimetype": "text/x-python",
   "name": "python",
   "nbconvert_exporter": "python",
   "pygments_lexer": "ipython3",
   "version": "3.7.0"
  }
 },
 "nbformat": 4,
 "nbformat_minor": 2
}
